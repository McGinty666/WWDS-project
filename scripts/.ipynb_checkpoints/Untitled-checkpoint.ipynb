{
 "cells": [
  {
   "cell_type": "code",
   "execution_count": null,
   "id": "9785378e-14b2-4da8-bf37-4377cff320de",
   "metadata": {},
   "outputs": [],
   "source": [
    "!pip install jupytext\n"
   ]
  },
  {
   "cell_type": "code",
   "execution_count": null,
   "id": "f7b3b68e-25ca-4a52-b714-fab8bfdd14b0",
   "metadata": {},
   "outputs": [],
   "source": []
  }
 ],
 "metadata": {
  "kernelspec": {
   "display_name": "Python 3 (ipykernel)",
   "language": "python",
   "name": "python3"
  },
  "language_info": {
   "codemirror_mode": {
    "name": "ipython",
    "version": 3
   },
   "file_extension": ".py",
   "mimetype": "text/x-python",
   "name": "python",
   "nbconvert_exporter": "python",
   "pygments_lexer": "ipython3",
   "version": "3.12.4"
  }
 },
 "nbformat": 4,
 "nbformat_minor": 5
}
